{
 "cells": [
  {
   "cell_type": "code",
   "execution_count": 1,
   "metadata": {},
   "outputs": [],
   "source": [
    "import numpy as np"
   ]
  },
  {
   "cell_type": "code",
   "execution_count": 2,
   "metadata": {},
   "outputs": [],
   "source": [
    "from auctions import GeneralizedFirstPriceAuction\n",
    "from interactions import Customer"
   ]
  },
  {
   "cell_type": "code",
   "execution_count": 3,
   "metadata": {},
   "outputs": [],
   "source": [
    "n_advertisers = 5\n",
    "n_slots = 3\n",
    "\n",
    "ctrs = np.ones(n_advertisers)\n",
    "lambdas = np.ones(n_slots)\n",
    "\n",
    "bids = [0.5, 0.2, 0.7, 0.1, 0.9]"
   ]
  },
  {
   "cell_type": "code",
   "execution_count": 4,
   "metadata": {},
   "outputs": [
    {
     "name": "stdout",
     "output_type": "stream",
     "text": [
      "Winners:  [4 2 0]\n",
      "Payments per click:  [0.9, 0.7, 0.5]\n"
     ]
    }
   ],
   "source": [
    "auction = GeneralizedFirstPriceAuction(ctrs, lambdas)\n",
    "\n",
    "winners, payments_per_click = auction.round(bids)\n",
    "\n",
    "print(\"Winners: \", winners)\n",
    "print(\"Payments per click: \", payments_per_click)"
   ]
  },
  {
   "cell_type": "code",
   "execution_count": 5,
   "metadata": {},
   "outputs": [
    {
     "data": {
      "text/plain": [
       "array([1., 1., 1., 1., 1.])"
      ]
     },
     "execution_count": 5,
     "metadata": {},
     "output_type": "execute_result"
    }
   ],
   "source": [
    "auction.get_click_through_rates()"
   ]
  },
  {
   "cell_type": "code",
   "execution_count": 6,
   "metadata": {},
   "outputs": [],
   "source": [
    "class Company:\n",
    "    def __init__(self, pricing_agent, bidding_agent, budget, valuation, product_cost):\n",
    "        self.pricing_agent = pricing_agent\n",
    "        self.bidding_agent = bidding_agent\n",
    "        self.budget = budget\n",
    "        self.valuation = valuation\n",
    "        self.product_cost = product_cost\n",
    "    \n",
    "    def set_price(self):\n",
    "        return self.pricing_agent.set_price()\n",
    "\n",
    "    def bid(self):\n",
    "        return self.bidding_agent.bid()\n",
    "    \n",
    "    def update_pricing_strategy(self, purchase_reward: int):\n",
    "        self.pricing_agent.update(purchase_reward)\n",
    "\n",
    "    def update_bidding_strategy(self, auction_results):\n",
    "        # Compute utility and cost\n",
    "        f_t, c_t = self._compute_utility_and_cost(auction_results)\n",
    "        m_t = auction_results['m_t']\n",
    "\n",
    "        # Update bidding strategy\n",
    "        self.bidding_agent.update(f_t, c_t, m_t)\n",
    "    \n",
    "    def _compute_utility_and_cost(self, auction_results):\n",
    "        win = auction_results['company_win']\n",
    "        m_t = auction_results['m_t']\n",
    "\n",
    "        # Compute utility\n",
    "        f_t = (self.valuation - m_t) * win\n",
    "\n",
    "        # Compute cost\n",
    "        c_t = m_t * win\n",
    "\n",
    "        return f_t, c_t"
   ]
  },
  {
   "cell_type": "code",
   "execution_count": 7,
   "metadata": {},
   "outputs": [],
   "source": [
    "class Publisher:\n",
    "    # The company index is always 0, as the company bid is the first one\n",
    "    COMPANY_INDEX = 0\n",
    "\n",
    "    def __init__(self, auction, competitors):\n",
    "        self.auction = auction\n",
    "        self.competitors = competitors\n",
    "    \n",
    "    def round(self, bid):\n",
    "        # Get the competitor bids and the maximum among them\n",
    "        competitor_bids, m_t = self.competitors.get_bids()\n",
    "\n",
    "        # Append the competitor bids to the company's bid\n",
    "        bids = np.append(bid, competitor_bids)\n",
    "\n",
    "        # Run the auction\n",
    "        winners, payments_per_click = self.auction.round(bids)\n",
    "        \n",
    "        # Check if the company won the auction, and if so, the slot in which the ad was shown\n",
    "        company_win = self.COMPANY_INDEX in winners\n",
    "        company_slot = np.where(winners == self.COMPANY_INDEX)[0][0] if company_win else -1\n",
    "\n",
    "        # Get the company's click through rate\n",
    "        ctrs = self.auction.get_click_through_rates()\n",
    "        company_ctr = ctrs[self.COMPANY_INDEX]\n",
    "\n",
    "        # Simulate the click outcome (True if the user clicked on the ad)\n",
    "        click_outcome = np.random.rand() < company_ctr\n",
    "\n",
    "        auction_results = {\n",
    "            'company_win': company_win,\n",
    "            'company_slot': company_slot,\n",
    "            'm_t': m_t\n",
    "        }\n",
    "\n",
    "        return auction_results, click_outcome"
   ]
  },
  {
   "cell_type": "code",
   "execution_count": 8,
   "metadata": {},
   "outputs": [],
   "source": [
    "class Competitors:\n",
    "    # TODO: implement\n",
    "    # Define behavior, distributions to sample bids from, etc...\n",
    "    # Best to define a Competitors abstract class, and then implement different strategies\n",
    "    # Such as StochasticCompetitors, AdversarialCompetitors, etc...\n",
    "    ..."
   ]
  },
  {
   "cell_type": "code",
   "execution_count": 9,
   "metadata": {},
   "outputs": [],
   "source": [
    "class Competitors:\n",
    "    def __init__(self, *args, **kwargs):\n",
    "        pass\n",
    "\n",
    "    def get_bids(self):\n",
    "        pass"
   ]
  },
  {
   "cell_type": "code",
   "execution_count": 10,
   "metadata": {},
   "outputs": [],
   "source": [
    "class StochasticCompetitors(Competitors):\n",
    "    def __init__(self, n_competitors, distribution):\n",
    "        self.n_competitors = n_competitors\n",
    "        self.distribution = distribution\n",
    "\n",
    "    def get_bids(self):\n",
    "        # Sample bids from the distribution\n",
    "        bids = self.distribution(self.n_competitors)\n",
    "\n",
    "        # Get the maximum bid\n",
    "        m_t = np.max(bids)\n",
    "\n",
    "        return bids, m_t"
   ]
  },
  {
   "cell_type": "code",
   "execution_count": 15,
   "metadata": {},
   "outputs": [
    {
     "data": {
      "text/plain": [
       "(array([0.5488135 , 0.71518937, 0.60276338, 0.54488318, 0.4236548 ]),\n",
       " 0.7151893663724195)"
      ]
     },
     "execution_count": 15,
     "metadata": {},
     "output_type": "execute_result"
    }
   ],
   "source": [
    "np.random.seed(0)\n",
    "\n",
    "distribution = lambda n_competitors: np.random.uniform(0, 1, n_competitors)\n",
    "\n",
    "n_competitors = 5\n",
    "competitors = StochasticCompetitors(n_competitors, distribution)\n",
    "\n",
    "competitors.get_bids()"
   ]
  },
  {
   "cell_type": "code",
   "execution_count": 35,
   "metadata": {},
   "outputs": [
    {
     "data": {
      "text/plain": [
       "(array([0.67781654, 0.27000797, 0.73519402, 0.96218855, 0.24875314]),\n",
       " 0.9621885451174382)"
      ]
     },
     "execution_count": 35,
     "metadata": {},
     "output_type": "execute_result"
    }
   ],
   "source": [
    "competitors.get_bids()"
   ]
  },
  {
   "cell_type": "code",
   "execution_count": null,
   "metadata": {},
   "outputs": [],
   "source": [
    "class Interaction:\n",
    "    def __init__(self, company, publisher, customer):\n",
    "        self.company = company\n",
    "        self.publisher = publisher\n",
    "        self.customer = customer\n",
    "    \n",
    "    def day(self, n_users):\n",
    "        # Simulates a day, made up of multiple auctions\n",
    "\n",
    "        # Company sets a price\n",
    "        price = self.company.set_price()\n",
    "\n",
    "        # Company faces a series of auctions\n",
    "        for user in range(n_users):\n",
    "            # Company bids\n",
    "            bid = self.company.bid()\n",
    "\n",
    "            # Publisher runs the auction and simulates the click outcome\n",
    "            auction_results, click_outcome = self.publisher.round(bid)\n",
    "\n",
    "            # Update the company's bidding strategy\n",
    "            self.company.update_bidding_strategy(auction_results)\n",
    "\n",
    "            # Update the company's pricing strategy, but only if the user clicked on the ad\n",
    "            if click_outcome:\n",
    "                purchase_reward = self.customer.check_purchase(price) # 1 if the user purchased, 0 otherwise\n",
    "                self.company.update_pricing_strategy(purchase_reward)\n",
    "\n",
    "    # TODO: continue if there's more to do\n",
    "    ..."
   ]
  },
  {
   "cell_type": "code",
   "execution_count": null,
   "metadata": {},
   "outputs": [],
   "source": [
    "# Generic structure of the simulation\n",
    "n_days = ...\n",
    "n_users = ...\n",
    "\n",
    "company = Company(...)\n",
    "publisher = Publisher(...)\n",
    "competitors = Competitors(...)\n",
    "customer = Customer(...)\n",
    "\n",
    "interaction = Interaction(company, publisher, competitors, customer)\n",
    "\n",
    "for day in range(n_days):\n",
    "    interaction.day(n_users)\n",
    "\n",
    "    # TODO: continue\n",
    "    ..."
   ]
  }
 ],
 "metadata": {
  "kernelspec": {
   "display_name": "ola-project",
   "language": "python",
   "name": "python3"
  },
  "language_info": {
   "codemirror_mode": {
    "name": "ipython",
    "version": 3
   },
   "file_extension": ".py",
   "mimetype": "text/x-python",
   "name": "python",
   "nbconvert_exporter": "python",
   "pygments_lexer": "ipython3",
   "version": "3.12.2"
  }
 },
 "nbformat": 4,
 "nbformat_minor": 2
}
