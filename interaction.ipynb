{
 "cells": [
  {
   "cell_type": "code",
   "execution_count": 1,
   "metadata": {},
   "outputs": [],
   "source": [
    "import numpy as np"
   ]
  },
  {
   "cell_type": "code",
   "execution_count": 2,
   "metadata": {},
   "outputs": [],
   "source": [
    "from auctions import GeneralizedFirstPriceAuction\n",
    "from interactions import Customer"
   ]
  },
  {
   "cell_type": "code",
   "execution_count": 3,
   "metadata": {},
   "outputs": [],
   "source": [
    "n_advertisers = 5\n",
    "n_slots = 3\n",
    "\n",
    "ctrs = np.ones(n_advertisers)\n",
    "lambdas = np.ones(n_slots)\n",
    "\n",
    "bids = [0.5, 0.2, 0.7, 0.1, 0.9]"
   ]
  },
  {
   "cell_type": "code",
   "execution_count": 4,
   "metadata": {},
   "outputs": [
    {
     "name": "stdout",
     "output_type": "stream",
     "text": [
      "Winners:  [4 2 0]\n",
      "Payments per click:  [0.9, 0.7, 0.5]\n"
     ]
    }
   ],
   "source": [
    "auction = GeneralizedFirstPriceAuction(ctrs, lambdas)\n",
    "\n",
    "winners, payments_per_click = auction.round(bids)\n",
    "\n",
    "print(\"Winners: \", winners)\n",
    "print(\"Payments per click: \", payments_per_click)"
   ]
  },
  {
   "cell_type": "code",
   "execution_count": null,
   "metadata": {},
   "outputs": [],
   "source": [
    "class Company:\n",
    "    def __init__(self, pricing_agent, bidding_agent, budget):\n",
    "        self.pricing_agent = pricing_agent\n",
    "        self.bidding_agent = bidding_agent\n",
    "        self.budget = budget\n",
    "    \n",
    "    def set_price(self):\n",
    "        return self.pricing_agent.set_price()\n",
    "\n",
    "    def bid(self):\n",
    "        return self.bidding_agent.bid()\n",
    "    \n",
    "    def update_pricing_strategy(self, purchased: bool):\n",
    "        self.pricing_agent.update(purchased)\n",
    "\n",
    "    def update_bidding_strategy(self, auction_results: bool, click_event, cost, n_slot=-1):\n",
    "        # auction_results: True if the company won the auction\n",
    "        # click_event: True if the user clicked on the ad\n",
    "        # cost: the auction payment\n",
    "        # n_slot: the slot in which the ad was shown\n",
    "        self.bidding_agent.update(auction_results, click_event, cost, n_slot)"
   ]
  },
  {
   "cell_type": "code",
   "execution_count": null,
   "metadata": {},
   "outputs": [],
   "source": [
    "class Publisher:\n",
    "    def __init__(self, auction, competitors):\n",
    "        self.auction = auction\n",
    "        self.competitors = competitors\n",
    "    \n",
    "    def round(self, bid):\n",
    "        bids = np.append(bid, self.competitors.get_bids())\n",
    "        winners, payments_per_click = self.auction.round(bids)\n",
    "\n",
    "        # TODO: continue\n",
    "        ...\n",
    "\n",
    "        return"
   ]
  },
  {
   "cell_type": "code",
   "execution_count": null,
   "metadata": {},
   "outputs": [],
   "source": [
    "class Competitors:\n",
    "    # TODO: implement\n",
    "    # Define behavior, distributions to sample bids from, etc...\n",
    "    ..."
   ]
  },
  {
   "cell_type": "code",
   "execution_count": null,
   "metadata": {},
   "outputs": [],
   "source": [
    "class Interaction:\n",
    "    def __init__(self, company, publisher, competitors, customer):\n",
    "        self.company = company\n",
    "        self.publisher = publisher\n",
    "        self.competitors = competitors\n",
    "        self.customer = customer\n",
    "    \n",
    "    def day(self, n_users):\n",
    "        # Simulates a day, made up of multiple auctions\n",
    "\n",
    "        # Company sets a price\n",
    "        self.company.set_price()\n",
    "\n",
    "        # Company faces a series of auctions\n",
    "        for user in range(n_users):\n",
    "            # Company bids\n",
    "            bid = self.company.bid()\n",
    "\n",
    "            # Publisher runs the auction\n",
    "            something, to_be_returned = self.publisher.round(bid)\n",
    "\n",
    "            # TODO: continue\n",
    "            ..."
   ]
  },
  {
   "cell_type": "code",
   "execution_count": null,
   "metadata": {},
   "outputs": [],
   "source": [
    "# Generic structure of the simulation\n",
    "n_days = ...\n",
    "n_users = ...\n",
    "\n",
    "company = Company(...)\n",
    "publisher = Publisher(...)\n",
    "competitors = Competitors(...)\n",
    "customer = Customer(...)\n",
    "\n",
    "interaction = Interaction(company, publisher, competitors, customer)\n",
    "\n",
    "for day in range(n_days):\n",
    "    interaction.day(n_users)\n",
    "\n",
    "    # TODO: continue\n",
    "    ..."
   ]
  }
 ],
 "metadata": {
  "kernelspec": {
   "display_name": "ola-project",
   "language": "python",
   "name": "python3"
  },
  "language_info": {
   "codemirror_mode": {
    "name": "ipython",
    "version": 3
   },
   "file_extension": ".py",
   "mimetype": "text/x-python",
   "name": "python",
   "nbconvert_exporter": "python",
   "pygments_lexer": "ipython3",
   "version": "3.12.2"
  }
 },
 "nbformat": 4,
 "nbformat_minor": 2
}
